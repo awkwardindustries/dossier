{
 "cells": [
  {
   "cell_type": "markdown",
   "metadata": {},
   "source": [
    "**Step 1**: Import required libraries"
   ]
  },
  {
   "cell_type": "code",
   "execution_count": 1,
   "metadata": {},
   "outputs": [],
   "source": [
    "\n",
    "!python -m pip install semantic-kernel==0.3.10.dev0 --quiet"
   ]
  },
  {
   "cell_type": "code",
   "execution_count": 2,
   "metadata": {},
   "outputs": [],
   "source": [
    "import semantic_kernel as sk\n",
    "\n",
    "kernel = sk.Kernel(log=sk.NullLogger())"
   ]
  },
  {
   "cell_type": "markdown",
   "metadata": {},
   "source": [
    "**Step 2**: Add Azure OpenAI chat service"
   ]
  },
  {
   "cell_type": "code",
   "execution_count": 3,
   "metadata": {},
   "outputs": [
    {
     "data": {
      "text/plain": [
       "<semantic_kernel.kernel.Kernel at 0x7f8563832450>"
      ]
     },
     "execution_count": 3,
     "metadata": {},
     "output_type": "execute_result"
    }
   ],
   "source": [
    "from semantic_kernel.connectors.ai.open_ai import AzureChatCompletion\n",
    "\n",
    "deployment, api_key, endpoint = sk.azure_openai_settings_from_dot_env()\n",
    "\n",
    "kernel.add_chat_service(\"chat_completion\", AzureChatCompletion(deployment, endpoint, api_key))"
   ]
  },
  {
   "cell_type": "markdown",
   "metadata": {},
   "source": [
    "**Step 3**: Do some stuffs..."
   ]
  },
  {
   "cell_type": "code",
   "execution_count": 4,
   "metadata": {},
   "outputs": [
    {
     "name": "stdout",
     "output_type": "stream",
     "text": [
      "At my office, we have so many meetings that even Chuck Norris would get tired. One day, my boss said, \"We need a meeting to plan our meetings.\" I replied, \"Sure, but only if we can have a pre-meeting to discuss the agenda for the meeting about the meetings. And don't forget the post-meeting to review what we discussed in the meeting about the meetings.\" My boss just stared at me. I added, \"And maybe Chuck Norris can chair them all. After all, he's the only one who can attend a meeting even before it's scheduled!\"\n"
     ]
    }
   ],
   "source": [
    "skill = kernel.import_semantic_skill_from_directory(\"plugins\", \"FunPlugin\")\n",
    "joke_function = skill[\"Joke\"]\n",
    "\n",
    "variables = sk.ContextVariables()\n",
    "variables[\"input\"] = \"too many meetings at work\"\n",
    "variables[\"style\"] = \"in the style of Chuck Norris\"\n",
    "\n",
    "print(joke_function(variables=variables))"
   ]
  }
 ],
 "metadata": {
  "kernelspec": {
   "display_name": ".venv",
   "language": "python",
   "name": "python3"
  },
  "language_info": {
   "codemirror_mode": {
    "name": "ipython",
    "version": 3
   },
   "file_extension": ".py",
   "mimetype": "text/x-python",
   "name": "python",
   "nbconvert_exporter": "python",
   "pygments_lexer": "ipython3",
   "version": "3.11.3"
  }
 },
 "nbformat": 4,
 "nbformat_minor": 2
}
