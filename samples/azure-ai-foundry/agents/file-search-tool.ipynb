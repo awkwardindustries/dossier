{
 "cells": [
  {
   "cell_type": "markdown",
   "id": "b11b9a23",
   "metadata": {},
   "source": [
    "## Prerequisites\n",
    "\n",
    "1. Complete a Standard agent setup.\n",
    "2. Ensure that you have the role **Storage Blob Data Contributor** on your project's storage account.\n",
    "3. Ensure that you have the role **Azure AI Developer** on your project.\n"
   ]
  },
  {
   "cell_type": "markdown",
   "id": "d6c5a5f6",
   "metadata": {},
   "source": [
    "## Setup"
   ]
  },
  {
   "cell_type": "code",
   "execution_count": null,
   "id": "71586f27",
   "metadata": {},
   "outputs": [],
   "source": [
    "# Install dependencies\n",
    "\n",
    "%pip install azure-identity\n",
    "%pip install azure-ai-projects\n",
    "%pip install python-dotenv"
   ]
  },
  {
   "cell_type": "code",
   "execution_count": null,
   "id": "4d2f0972",
   "metadata": {},
   "outputs": [],
   "source": [
    "# Load environment\n",
    "\n",
    "from dotenv import load_dotenv\n",
    "\n",
    "load_dotenv(override=True)"
   ]
  },
  {
   "cell_type": "code",
   "execution_count": null,
   "id": "95d78aa7",
   "metadata": {},
   "outputs": [],
   "source": [
    "# Create the project client\n",
    "\n",
    "import os\n",
    "from azure.ai.projects import AIProjectClient\n",
    "from azure.identity import DefaultAzureCredential\n",
    "\n",
    "credential = DefaultAzureCredential()\n",
    "project_client = AIProjectClient.from_connection_string(\n",
    "    credential=credential, conn_str=os.environ[\"PROJECT_CONNECTION_STRING\"]\n",
    ")"
   ]
  },
  {
   "cell_type": "markdown",
   "id": "561544ad",
   "metadata": {},
   "source": [
    "## Setup the Agent\n",
    "\n",
    "For this, we're pre-uploading the file to so that the project is aware of the file. After the file has been uploaded, we create a new vector store that includes that project file.\n",
    "\n",
    "### Create the Vector Store"
   ]
  },
  {
   "cell_type": "code",
   "execution_count": null,
   "id": "351ea3a5",
   "metadata": {},
   "outputs": [],
   "source": [
    "# Upload files and add them to Vector Store\n",
    "\n",
    "from azure.ai.projects.models import FilePurpose\n",
    "\n",
    "# Upload...\n",
    "file = project_client.agents.upload_file_and_poll(\n",
    "    file_path='./assets/MSFT_cloud_architecture_contoso.pdf',\n",
    "    purpose=FilePurpose.AGENTS\n",
    ")\n",
    "print(f\"Uploaded file, file ID: {file.id}\")\n",
    "\n",
    "# Create a vector store with the files you uploaded\n",
    "vector_store = project_client.agents.create_vector_store_and_poll(\n",
    "    file_ids=[file.id],\n",
    "    name=\"agent-vectorstore\"\n",
    ")\n",
    "print(f\"Created vector store, vector store ID: {vector_store.id}\")"
   ]
  },
  {
   "cell_type": "markdown",
   "id": "7f0ca889",
   "metadata": {},
   "source": [
    "### Create the Agent to use the agent-level Vector Store"
   ]
  },
  {
   "cell_type": "code",
   "execution_count": null,
   "id": "c12e4133",
   "metadata": {},
   "outputs": [],
   "source": [
    "# Create an agent and enable file search\n",
    "\n",
    "from azure.ai.projects.models import FileSearchTool\n",
    "\n",
    "file_search_tool = FileSearchTool(vector_store_ids=[vector_store.id])\n",
    "\n",
    "agent = project_client.agents.create_agent(\n",
    "    model=\"gpt-4o-mini\",\n",
    "    name=\"agent-test\",\n",
    "    instructions=\"You are a helpful agent\",\n",
    "    tools=file_search_tool.definitions,\n",
    "    tool_resources=file_search_tool.resources\n",
    ")\n",
    "\n",
    "print(f\"Created agent, agent ID: {agent.id}\")"
   ]
  },
  {
   "cell_type": "markdown",
   "id": "dabd9ea1",
   "metadata": {},
   "source": [
    "## Run it!\n",
    "\n",
    "### Create a thread that only uses the agent-level vector store"
   ]
  },
  {
   "cell_type": "code",
   "execution_count": null,
   "id": "4f519653",
   "metadata": {},
   "outputs": [],
   "source": [
    "# Create a thread - ask a question over an existing vector store\n",
    "# Agent has access because the tool was added at the agent, and\n",
    "# it included a reference to the vector store that was created\n",
    "# for the pre-uploaded files\n",
    "\n",
    "from azure.ai.projects.models import MessageTextContent\n",
    "\n",
    "thread = project_client.agents.create_thread()\n",
    "print(f\"Created thread, thread ID: {thread.id}\")\n",
    "\n",
    "# Add a user message to the thread\n",
    "message = project_client.agents.create_message(\n",
    "    thread_id=thread.id,\n",
    "    role=\"user\",\n",
    "    content=\"What compute resources are being considered by Contoso?\"\n",
    ")\n",
    "\n",
    "# Run the agent and wait for a response\n",
    "run = project_client.agents.create_and_process_run(\n",
    "    thread_id=thread.id,\n",
    "    agent_id=agent.id\n",
    ")\n",
    "print(f\"Completed run, run ID: {run.id}\")"
   ]
  },
  {
   "cell_type": "code",
   "execution_count": null,
   "id": "031068ac",
   "metadata": {},
   "outputs": [],
   "source": [
    "# Print run results\n",
    "messages = project_client.agents.list_messages(thread_id=thread.id)\n",
    "for m in reversed(messages.data):\n",
    "    last_message_content = m.content[-1]\n",
    "    if isinstance(last_message_content, MessageTextContent):\n",
    "        print(f\"\\n{m.role.upper()}: {last_message_content.text.value}\")\n",
    "\n",
    "print(\"\\nCitations:\")\n",
    "for c in messages.file_citation_annotations:\n",
    "    print(f\"- Citation snippet: '{c.text}' from file ID: {c.file_citation['file_id']}\")"
   ]
  },
  {
   "cell_type": "markdown",
   "id": "bd9e3241",
   "metadata": {},
   "source": [
    "### Create a thread that uses both the agent-level vector store ***and*** a thread-level vector store (from attachments)"
   ]
  },
  {
   "cell_type": "code",
   "execution_count": null,
   "id": "c0870273",
   "metadata": {},
   "outputs": [],
   "source": [
    "# Create a thread - ask a question including a new file\n",
    "# Agent has access to the vector store because of the original initialization\n",
    "# of the agent. Another vector store is created for the attachment knowledge\n",
    "# only.\n",
    "\n",
    "from azure.ai.projects.models import MessageAttachment\n",
    "\n",
    "attachments_thread = project_client.agents.create_thread()\n",
    "print(f\"Created thread, thread ID: {attachments_thread.id}\")\n",
    "\n",
    "# Upload a new file as a message attachment\n",
    "message_file = project_client.agents.upload_file_and_poll(file_path=\"./assets/contoso-checklist.md\", purpose=FilePurpose.AGENTS)\n",
    "print(f\"Uploaded file, file ID: {message_file.id}\")\n",
    "\n",
    "# Create a message with the file search attachment\n",
    "# Notice that vector store is created temporarily when using attachments with a default expiration policy of seven days.\n",
    "attachment = MessageAttachment(file_id=message_file.id, tools=FileSearchTool().definitions)\n",
    "attachments_message = project_client.agents.create_message(\n",
    "    thread_id=attachments_thread.id,\n",
    "    role=\"user\",\n",
    "    content=\"What compute resources are targeted?\",\n",
    "    attachments=[attachment]\n",
    ")\n",
    "print(f\"Created message, message ID: {message.id}\")\n",
    "\n",
    "# Run the thread\n",
    "attachments_run = project_client.agents.create_and_process_run(\n",
    "    thread_id=attachments_thread.id,\n",
    "    agent_id=agent.id\n",
    ")\n",
    "print(f\"Completed run, run ID: {attachments_run.id}\")\n",
    "\n",
    "# Create another message that requires knowledge from original document\n",
    "another_attachments_message = project_client.agents.create_message(\n",
    "    thread_id=attachments_thread.id,\n",
    "    role=\"user\",\n",
    "    content=\"Where is Contoso headquartered?\"\n",
    ")\n",
    "print(f\"Created message, message ID: {another_attachments_message.id}\")\n",
    "\n",
    "# Run the thread\n",
    "another_attachments_run = project_client.agents.create_and_process_run(\n",
    "    thread_id=attachments_thread.id,\n",
    "    agent_id=agent.id\n",
    ")\n",
    "print(f\"Completed run, run ID: {another_attachments_run.id}\")"
   ]
  },
  {
   "cell_type": "code",
   "execution_count": null,
   "id": "40d3afc3",
   "metadata": {},
   "outputs": [],
   "source": [
    "# Print results\n",
    "\n",
    "attachments_messages = project_client.agents.list_messages(thread_id=attachments_thread.id)\n",
    "for m in reversed(attachments_messages.data):\n",
    "    last_message_content = m.content[-1]\n",
    "    if isinstance(last_message_content, MessageTextContent):\n",
    "        print(f\"\\n{m.role.upper()}: {last_message_content.text.value}\")\n",
    "\n",
    "print(\"\\nCitations:\")\n",
    "for c in attachments_messages.file_citation_annotations:\n",
    "    print(f\"- Citation snippet: '{c.text}' from file ID: {c.file_citation['file_id']}\")"
   ]
  },
  {
   "cell_type": "markdown",
   "id": "bce017e4",
   "metadata": {},
   "source": [
    "## Cleanup Agent, Files, and Vector Store"
   ]
  },
  {
   "cell_type": "code",
   "execution_count": null,
   "id": "567cb874",
   "metadata": {},
   "outputs": [],
   "source": [
    "# Explicit cleanup\n",
    "project_client.agents.delete_vector_store(vector_store_id=vector_store.id)\n",
    "project_client.agents.delete_file(file_id=file.id)\n",
    "project_client.agents.delete_file(file_id=message_file.id)\n",
    "project_client.agents.delete_thread(thread_id=thread.id)\n",
    "project_client.agents.delete_thread(thread_id=attachments_thread.id)\n",
    "project_client.agents.delete_agent(agent_id=agent.id)\n",
    "\n",
    "# Clean up EVERYTHING...\n",
    "\n",
    "# # Cleanup any vector stores\n",
    "# vector_stores = project_client.agents.list_vector_stores()\n",
    "# for vs in vector_stores.data:\n",
    "#     print(f\"Deleting vector store: {vs.id}\")\n",
    "#     project_client.agents.delete_vector_store(vector_store_id=vs.id)\n",
    "# # Cleanup any files\n",
    "# files = project_client.agents.list_files(purpose=FilePurpose.AGENTS)\n",
    "# for f in files.data:\n",
    "#     print(f\"Deleting file: {f.id}\")\n",
    "#     project_client.agents.delete_file(file_id=f.id)\n",
    "# # Cleanup any agents\n",
    "# agents = project_client.agents.list_agents()\n",
    "# for a in agents.data:\n",
    "#     print(f\"Deleting agent: {a.id}\")\n",
    "#     project_client.agents.delete_agent(agent_id=a.id)"
   ]
  }
 ],
 "metadata": {
  "kernelspec": {
   "display_name": ".venv",
   "language": "python",
   "name": "python3"
  },
  "language_info": {
   "codemirror_mode": {
    "name": "ipython",
    "version": 3
   },
   "file_extension": ".py",
   "mimetype": "text/x-python",
   "name": "python",
   "nbconvert_exporter": "python",
   "pygments_lexer": "ipython3",
   "version": "3.12.3"
  }
 },
 "nbformat": 4,
 "nbformat_minor": 5
}
